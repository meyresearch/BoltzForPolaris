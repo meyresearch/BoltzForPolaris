{
 "cells": [
  {
   "cell_type": "code",
   "execution_count": null,
   "metadata": {},
   "outputs": [],
   "source": [
    "from pxdock import ProtenixDock"
   ]
  },
  {
   "cell_type": "code",
   "execution_count": null,
   "metadata": {},
   "outputs": [],
   "source": [
    "receptor_pdb = \"path/to/receptor.pdb\"\n",
    "ligand_sdf = \"path/to/ligand.sdf\""
   ]
  },
  {
   "cell_type": "code",
   "execution_count": null,
   "metadata": {},
   "outputs": [],
   "source": [
    "\n",
    "box_center = [0., 0., 0.] # box center for receptor\n",
    "box_size = [10., 10., 10.] # box size for receptor\n",
    "dock_instance = ProtenixDock(receptor_pdb)\n",
    "dock_instance.set_box(box_center, box_size)\n",
    "\n",
    "# Optional: you can generate cache maps for receptor, and then you can load it for next docking.\n",
    "# out_dir = dock_instance.generate_cache_maps(spacing=0.5)\n",
    "\n",
    "# the docking_res_files is in json format.\n",
    "docking_res_files = dock_instance.run_docking(ligand_sdf)"
   ]
  }
 ],
 "metadata": {
  "language_info": {
   "name": "python"
  }
 },
 "nbformat": 4,
 "nbformat_minor": 2
}
